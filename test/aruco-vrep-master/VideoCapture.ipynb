{
 "cells": [
  {
   "cell_type": "code",
   "execution_count": 1,
   "metadata": {},
   "outputs": [
    {
     "name": "stdout",
     "output_type": "stream",
     "text": [
      "Program started\n"
     ]
    }
   ],
   "source": [
    "print('Program started')\n",
    "import vrep\n",
    "import matplotlib.pyplot as plt\n",
    "import numpy as np\n",
    "import cv2\n",
    "from PIL import Image\n",
    "\n",
    "numLines = 3 #Número de linhas a serem detectada\n",
    "\n",
    "serverIP = '127.0.0.1';\n",
    "serverPort = 19997; #Esta porta do servidor está sempre aberta\n",
    "vrep.simxFinish(-1);\n",
    "clientID=vrep.simxStart(serverIP,serverPort,True,True,5000,5);\n",
    "\n",
    "windowName = \"Lines Detection\" #Janela de visualização do Vídeo\n",
    "windowName2 = \"Edge Detection\" #Janela de visualização do Vídeo\n",
    "cv2.namedWindow(windowName)#nome da janela\n",
    "cv2.namedWindow(windowName2)#nome da janela\n",
    "\n",
    "err,visionHandle=vrep.simxGetObjectHandle(clientID,'Vision_sensor',vrep.simx_opmode_oneshot_wait)\n",
    "#err,GPSHandle=vrep.simxGetObjectHandle(clientID,'GPS_reference',vrep.simx_opmode_oneshot_wait)\n",
    "\n",
    "while err == 0:\n",
    "    \n",
    "  \n",
    "    err,visionHandle=vrep.simxGetObjectHandle(clientID,'Vision_sensor',vrep.simx_opmode_oneshot_wait)\n",
    "    #err,GPSHandle=vrep.simxGetObjectHandle(clientID,'GPS_reference',vrep.simx_opmode_oneshot_wait)\n",
    "    #err,tgHandle=vrep.simxGetObjectHandle(clientID,'Quadricopter_target',vrep.simx_opmode_oneshot_wait)\n",
    "    \n",
    "    #err, pos = vrep.simxGetObjectPosition(clientID,tgHandle,-1,vrep.simx_opmode_oneshot_wait) #Posição do objeto a ser seguido pelo Drone.\n",
    "    #err, ori = vrep.simxGetObjectOrientation(clientID,tgHandle,-1,vrep.simx_opmode_oneshot_wait) #Orientação do objeto a ser seguido pelo Drone.\n",
    "    err,res,imgList = vrep.simxGetVisionSensorImage(clientID,visionHandle,0,vrep.simx_opmode_oneshot_wait) #Imagens do sensor\n",
    "        \n",
    "    img = (np.array(imgList))[::-1]#Passa de lista para uma array e inverte a array para plotar corretamente\n",
    "    imgRGB = cv2.flip(np.uint8(img.reshape(640,480,3)),1) #Transforma em uma imagem RGB e espelha   \n",
    "    \n",
    "    gray = cv2.cvtColor(imgRGB, cv2.COLOR_BGR2GRAY)#Passa de RGB para escala de cinza\n",
    "    edges = cv2.Canny(gray, 50, 50, apertureSize=3, L2gradient=True)#Detecção de bordas\n",
    "    \n",
    "     \n",
    "    cv2.imshow(windowName,img)\n",
    "    cv2.imshow(windowName2,edges)\n",
    "    \n",
    "    if cv2.waitKey(1) == 27: # exit on ESC\n",
    "        break\n",
    "\n",
    "cv2.destroyAllWindows()"
   ]
  }
 ],
 "metadata": {
  "kernelspec": {
   "display_name": "Python 3",
   "language": "python",
   "name": "python3"
  },
  "language_info": {
   "codemirror_mode": {
    "name": "ipython",
    "version": 3
   },
   "file_extension": ".py",
   "mimetype": "text/x-python",
   "name": "python",
   "nbconvert_exporter": "python",
   "pygments_lexer": "ipython3",
   "version": "3.6.5"
  }
 },
 "nbformat": 4,
 "nbformat_minor": 2
}
